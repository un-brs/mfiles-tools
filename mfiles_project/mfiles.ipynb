{
 "metadata": {
  "name": "",
  "signature": "sha256:69079390bb04ab8d49d6988210dc5660b6d0c8a3d2ec2946332fd95a33495a09"
 },
 "nbformat": 3,
 "nbformat_minor": 0,
 "worksheets": [
  {
   "cells": [
    {
     "cell_type": "code",
     "collapsed": false,
     "input": [
      "import os\n",
      "import django\n",
      "\n",
      "os.environ.setdefault(\"DJANGO_SETTINGS_MODULE\", \"mfiles_project.settings.local\")\n",
      "from django.conf import settings\n",
      "django.setup()"
     ],
     "language": "python",
     "metadata": {},
     "outputs": [],
     "prompt_number": 37
    },
    {
     "cell_type": "code",
     "collapsed": false,
     "input": [
      "from mfiles_sync.models import *\n",
      "import mfiles_docs.models as dm"
     ],
     "language": "python",
     "metadata": {},
     "outputs": [],
     "prompt_number": 38
    },
    {
     "cell_type": "code",
     "collapsed": false,
     "input": [
      "docs = Document.objects.filter(properties__pdef__name='Language',properties__txt_value='English')"
     ],
     "language": "python",
     "metadata": {},
     "outputs": [],
     "prompt_number": 39
    },
    {
     "cell_type": "code",
     "collapsed": false,
     "input": [
      "d = docs[0]"
     ],
     "language": "python",
     "metadata": {},
     "outputs": [
      {
       "output_type": "stream",
       "stream": "stderr",
       "text": [
        "DEBUG:django.db.backends:(0.000) QUERY = 'SELECT \"mfmeta_doc\".\"id\", \"mfmeta_doc\".\"vault_id\", \"mfmeta_doc\".\"mfiles_id\", \"mfmeta_doc\".\"name\", \"mfmeta_doc\".\"ext\", \"mfmeta_doc\".\"size\", \"mfmeta_doc\".\"created\", \"mfmeta_doc\".\"modified\" FROM \"mfmeta_doc\" INNER JOIN \"mfmeta_docprop\" ON ( \"mfmeta_doc\".\"id\" = \"mfmeta_docprop\".\"doc_id\" ) INNER JOIN \"mfmeta_prop\" ON ( \"mfmeta_docprop\".\"prop_id\" = \"mfmeta_prop\".\"id\" ) INNER JOIN \"mfmeta_propdef\" ON ( \"mfmeta_prop\".\"pdef_id\" = \"mfmeta_propdef\".\"id\" ) WHERE (\"mfmeta_propdef\".\"name\" = %s AND \"mfmeta_prop\".\"txt_value\" = %s) LIMIT 1' - PARAMS = ('Language', 'English'); args=('Language', 'English')\n"
       ]
      }
     ],
     "prompt_number": 40
    },
    {
     "cell_type": "code",
     "collapsed": false,
     "input": [
      "dm.Document.objects.get(pk=1)\n",
      "\n"
     ],
     "language": "python",
     "metadata": {},
     "outputs": [
      {
       "output_type": "stream",
       "stream": "stderr",
       "text": [
        "DEBUG:django.db.backends:(0.000) QUERY = 'SELECT \"mfdoc_doc\".\"id\", \"mfdoc_doc\".\"mfiles_id\", \"mfdoc_doc\".\"vault\", \"mfdoc_doc\".\"un_number\", \"mfdoc_doc\".\"date_publication\", \"mfdoc_doc\".\"date_last_update\", \"mfdoc_doc\".\"period_start\", \"mfdoc_doc\".\"period_end\", \"mfdoc_doc\".\"copyright\", \"mfdoc_doc\".\"author\", \"mfdoc_doc\".\"meeting\", \"mfdoc_doc\".\"programmes\", \"mfdoc_doc\".\"country\" FROM \"mfdoc_doc\" WHERE \"mfdoc_doc\".\"id\" = %s LIMIT 21' - PARAMS = (1,); args=(1,)\n"
       ]
      },
      {
       "ename": "DoesNotExist",
       "evalue": "Document matching query does not exist.",
       "output_type": "pyerr",
       "traceback": [
        "\u001b[0;31m---------------------------------------------------------------------------\u001b[0m\n\u001b[0;31mDoesNotExist\u001b[0m                              Traceback (most recent call last)",
        "\u001b[0;32m<ipython-input-43-1951e06fa1d6>\u001b[0m in \u001b[0;36m<module>\u001b[0;34m()\u001b[0m\n\u001b[0;32m----> 1\u001b[0;31m \u001b[0mdm\u001b[0m\u001b[0;34m.\u001b[0m\u001b[0mDocument\u001b[0m\u001b[0;34m.\u001b[0m\u001b[0mobjects\u001b[0m\u001b[0;34m.\u001b[0m\u001b[0mget\u001b[0m\u001b[0;34m(\u001b[0m\u001b[0mpk\u001b[0m\u001b[0;34m=\u001b[0m\u001b[0;36m1\u001b[0m\u001b[0;34m)\u001b[0m\u001b[0;34m\u001b[0m\u001b[0m\n\u001b[0m\u001b[1;32m      2\u001b[0m \u001b[0;34m\u001b[0m\u001b[0m\n",
        "\u001b[0;32m/Users/amazurov/Dev/mfiles_project/venv/lib/python3.4/site-packages/django/db/models/manager.py\u001b[0m in \u001b[0;36mmanager_method\u001b[0;34m(self, *args, **kwargs)\u001b[0m\n\u001b[1;32m     90\u001b[0m         \u001b[0;32mdef\u001b[0m \u001b[0mcreate_method\u001b[0m\u001b[0;34m(\u001b[0m\u001b[0mname\u001b[0m\u001b[0;34m,\u001b[0m \u001b[0mmethod\u001b[0m\u001b[0;34m)\u001b[0m\u001b[0;34m:\u001b[0m\u001b[0;34m\u001b[0m\u001b[0m\n\u001b[1;32m     91\u001b[0m             \u001b[0;32mdef\u001b[0m \u001b[0mmanager_method\u001b[0m\u001b[0;34m(\u001b[0m\u001b[0mself\u001b[0m\u001b[0;34m,\u001b[0m \u001b[0;34m*\u001b[0m\u001b[0margs\u001b[0m\u001b[0;34m,\u001b[0m \u001b[0;34m**\u001b[0m\u001b[0mkwargs\u001b[0m\u001b[0;34m)\u001b[0m\u001b[0;34m:\u001b[0m\u001b[0;34m\u001b[0m\u001b[0m\n\u001b[0;32m---> 92\u001b[0;31m                 \u001b[0;32mreturn\u001b[0m \u001b[0mgetattr\u001b[0m\u001b[0;34m(\u001b[0m\u001b[0mself\u001b[0m\u001b[0;34m.\u001b[0m\u001b[0mget_queryset\u001b[0m\u001b[0;34m(\u001b[0m\u001b[0;34m)\u001b[0m\u001b[0;34m,\u001b[0m \u001b[0mname\u001b[0m\u001b[0;34m)\u001b[0m\u001b[0;34m(\u001b[0m\u001b[0;34m*\u001b[0m\u001b[0margs\u001b[0m\u001b[0;34m,\u001b[0m \u001b[0;34m**\u001b[0m\u001b[0mkwargs\u001b[0m\u001b[0;34m)\u001b[0m\u001b[0;34m\u001b[0m\u001b[0m\n\u001b[0m\u001b[1;32m     93\u001b[0m             \u001b[0mmanager_method\u001b[0m\u001b[0;34m.\u001b[0m\u001b[0m__name__\u001b[0m \u001b[0;34m=\u001b[0m \u001b[0mmethod\u001b[0m\u001b[0;34m.\u001b[0m\u001b[0m__name__\u001b[0m\u001b[0;34m\u001b[0m\u001b[0m\n\u001b[1;32m     94\u001b[0m             \u001b[0mmanager_method\u001b[0m\u001b[0;34m.\u001b[0m\u001b[0m__doc__\u001b[0m \u001b[0;34m=\u001b[0m \u001b[0mmethod\u001b[0m\u001b[0;34m.\u001b[0m\u001b[0m__doc__\u001b[0m\u001b[0;34m\u001b[0m\u001b[0m\n",
        "\u001b[0;32m/Users/amazurov/Dev/mfiles_project/venv/lib/python3.4/site-packages/django/db/models/query.py\u001b[0m in \u001b[0;36mget\u001b[0;34m(self, *args, **kwargs)\u001b[0m\n\u001b[1;32m    355\u001b[0m             raise self.model.DoesNotExist(\n\u001b[1;32m    356\u001b[0m                 \u001b[0;34m\"%s matching query does not exist.\"\u001b[0m \u001b[0;34m%\u001b[0m\u001b[0;34m\u001b[0m\u001b[0m\n\u001b[0;32m--> 357\u001b[0;31m                 self.model._meta.object_name)\n\u001b[0m\u001b[1;32m    358\u001b[0m         raise self.model.MultipleObjectsReturned(\n\u001b[1;32m    359\u001b[0m             \"get() returned more than one %s -- it returned %s!\" % (\n",
        "\u001b[0;31mDoesNotExist\u001b[0m: Document matching query does not exist."
       ]
      }
     ],
     "prompt_number": 43
    },
    {
     "cell_type": "code",
     "collapsed": false,
     "input": [
      "d.property(\"Language\")"
     ],
     "language": "python",
     "metadata": {},
     "outputs": []
    }
   ],
   "metadata": {}
  }
 ]
}