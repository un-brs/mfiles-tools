{
 "metadata": {
  "name": "",
  "signature": "sha256:f8546fb0fca6d5b280663fae4117f3c34ab5256324ab96033231f0d1a1053f03"
 },
 "nbformat": 3,
 "nbformat_minor": 0,
 "worksheets": [
  {
   "cells": [
    {
     "cell_type": "code",
     "collapsed": false,
     "input": [
      "import os\n",
      "os.environ.setdefault(\"DJANGO_SETTINGS_MODULE\", \"mfiles_project.settings.local\")\n",
      "from django.conf import settings"
     ],
     "language": "python",
     "metadata": {},
     "outputs": [],
     "prompt_number": 3
    },
    {
     "cell_type": "code",
     "collapsed": false,
     "input": [
      "from django.core.management import call_command\n",
      "#call_command('mfcache')\n"
     ],
     "language": "python",
     "metadata": {},
     "outputs": [],
     "prompt_number": 4
    },
    {
     "cell_type": "code",
     "collapsed": false,
     "input": [
      "from win32com.client import gencache\n",
      "mfiles = gencache.EnsureModule('{B9C079AA-92DD-4FB4-A0E0-AA3198955B45}',\n",
      "                               0, 1, 0)"
     ],
     "language": "python",
     "metadata": {},
     "outputs": [],
     "prompt_number": 5
    },
    {
     "cell_type": "code",
     "collapsed": false,
     "input": [
      "server = mfiles.MFilesServerApplication()\n",
      "server.Connect(AuthType=mfiles.constants.MFAuthTypeSpecificMFilesUser,\n",
      "                       UserName=settings.MFILES_USERNAME,\n",
      "                       Password=settings.MFILES_PASSWORD,\n",
      "                       NetworkAddress=settings.MFILES_HOST,\n",
      "                       Endpoint=\"2266\")\n"
     ],
     "language": "python",
     "metadata": {},
     "outputs": [
      {
       "metadata": {},
       "output_type": "pyout",
       "prompt_number": 7,
       "text": [
        "1"
       ]
      }
     ],
     "prompt_number": 7
    },
    {
     "cell_type": "code",
     "collapsed": false,
     "input": [
      "server_vaults = server.GetVaults()\n",
      "for n, svault in enumerate(server_vaults):\n",
      "    vault = svault.LogIn()\n",
      "    print(\n",
      "        'Vault %s %s' % (svault.Name, vault.GetGUID()))"
     ],
     "language": "python",
     "metadata": {},
     "outputs": [
      {
       "output_type": "stream",
       "stream": "stdout",
       "text": [
        "Vault Stockholm Production {1CFA1310-5483-49C1-86D5-C46856086DCD}\n",
        "Vault Rotterdam {46DFC561-4D8C-4FE9-AB0E-1CA56EBE2C40}\n",
        "Vault Basel {1A461182-6564-4E22-900B-9E06BCC90208}"
       ]
      },
      {
       "output_type": "stream",
       "stream": "stdout",
       "text": [
        "\n"
       ]
      },
      {
       "ename": "com_error",
       "evalue": "(-2147352567, 'Exception occurred.', (0, 'M-Files 9.0.3372.6', 'The vault is offline.\\r\\n\\r\\nCoVaultOnServer.cpp, 252, The vault is offline. (0x80040061)\\r\\nCoVaultOnServer.cpp, 294, The vault is offline. (0x80040061)\\r\\nMFilesSession.cpp, 565, The vault is offline. (0x80040061)\\r\\nMFilesSession.cpp, 621, The vault is offline. (0x80040061)\\r\\nMFilesSession.cpp, 1426, The vault is offline. (0x80040061)\\r\\nMFilesSession.cpp, 1511, The vault is offline. (0x80040061)\\r\\nMFilesSession.cpp, 1646, The vault is offline. (0x80040061)\\r\\nMFilesSession.cpp, 2085, The vault is offline. (0x80040061)\\r\\nRPCLogin.cpp, 183, The vault is offline. (0x80040061)\\r\\nRPCLoginHelper.cpp, 162, The vault is offline. (0x80040061)\\r\\nRPCLoginHelper.cpp, 460, The vault is offline. (0x80040061)\\r\\nRPCLoginHelper.cpp, 599, The vault is offline. (0x80040061)\\r\\n(M-Files 9.0.3372.6)\\r\\n\\r\\n(0021)', None, 0, -2147221503), None)",
       "output_type": "pyerr",
       "traceback": [
        "\u001b[1;31m---------------------------------------------------------------------------\u001b[0m\n\u001b[1;31mcom_error\u001b[0m                                 Traceback (most recent call last)",
        "\u001b[1;32m<ipython-input-9-63d4146c9577>\u001b[0m in \u001b[0;36m<module>\u001b[1;34m()\u001b[0m\n\u001b[0;32m      1\u001b[0m \u001b[0mserver_vaults\u001b[0m \u001b[1;33m=\u001b[0m \u001b[0mserver\u001b[0m\u001b[1;33m.\u001b[0m\u001b[0mGetVaults\u001b[0m\u001b[1;33m(\u001b[0m\u001b[1;33m)\u001b[0m\u001b[1;33m\u001b[0m\u001b[0m\n\u001b[0;32m      2\u001b[0m \u001b[1;32mfor\u001b[0m \u001b[0mn\u001b[0m\u001b[1;33m,\u001b[0m \u001b[0msvault\u001b[0m \u001b[1;32min\u001b[0m \u001b[0menumerate\u001b[0m\u001b[1;33m(\u001b[0m\u001b[0mserver_vaults\u001b[0m\u001b[1;33m)\u001b[0m\u001b[1;33m:\u001b[0m\u001b[1;33m\u001b[0m\u001b[0m\n\u001b[1;32m----> 3\u001b[1;33m     \u001b[0mvault\u001b[0m \u001b[1;33m=\u001b[0m \u001b[0msvault\u001b[0m\u001b[1;33m.\u001b[0m\u001b[0mLogIn\u001b[0m\u001b[1;33m(\u001b[0m\u001b[1;33m)\u001b[0m\u001b[1;33m\u001b[0m\u001b[0m\n\u001b[0m\u001b[0;32m      4\u001b[0m     print(\n\u001b[0;32m      5\u001b[0m         'Vault %s %s' % (svault.Name, vault.GetGUID()))\n",
        "\u001b[1;32mC:\\Users\\ALEXAN~1\\AppData\\Local\\Temp\\gen_py\\3.4\\B9C079AA-92DD-4FB4-A0E0-AA3198955B45x0x1x0.py\u001b[0m in \u001b[0;36mLogIn\u001b[1;34m(self)\u001b[0m\n\u001b[0;32m  12453\u001b[0m         \u001b[1;32mdef\u001b[0m \u001b[0mLogIn\u001b[0m\u001b[1;33m(\u001b[0m\u001b[0mself\u001b[0m\u001b[1;33m)\u001b[0m\u001b[1;33m:\u001b[0m\u001b[1;33m\u001b[0m\u001b[0m\n\u001b[0;32m  12454\u001b[0m                 \u001b[1;34m'Logs into the vault with the same credentials that were used to log into the server.'\u001b[0m\u001b[1;33m\u001b[0m\u001b[0m\n\u001b[1;32m> 12455\u001b[1;33m                 \u001b[0mret\u001b[0m \u001b[1;33m=\u001b[0m \u001b[0mself\u001b[0m\u001b[1;33m.\u001b[0m\u001b[0m_oleobj_\u001b[0m\u001b[1;33m.\u001b[0m\u001b[0mInvokeTypes\u001b[0m\u001b[1;33m(\u001b[0m\u001b[1;36m4\u001b[0m\u001b[1;33m,\u001b[0m \u001b[0mLCID\u001b[0m\u001b[1;33m,\u001b[0m \u001b[1;36m1\u001b[0m\u001b[1;33m,\u001b[0m \u001b[1;33m(\u001b[0m\u001b[1;36m9\u001b[0m\u001b[1;33m,\u001b[0m \u001b[1;36m0\u001b[0m\u001b[1;33m)\u001b[0m\u001b[1;33m,\u001b[0m \u001b[1;33m(\u001b[0m\u001b[1;33m)\u001b[0m\u001b[1;33m,\u001b[0m\u001b[1;33m)\u001b[0m\u001b[1;33m\u001b[0m\u001b[0m\n\u001b[0m\u001b[0;32m  12456\u001b[0m                 \u001b[1;32mif\u001b[0m \u001b[0mret\u001b[0m \u001b[1;32mis\u001b[0m \u001b[1;32mnot\u001b[0m \u001b[1;32mNone\u001b[0m\u001b[1;33m:\u001b[0m\u001b[1;33m\u001b[0m\u001b[0m\n\u001b[0;32m  12457\u001b[0m                         \u001b[0mret\u001b[0m \u001b[1;33m=\u001b[0m \u001b[0mDispatch\u001b[0m\u001b[1;33m(\u001b[0m\u001b[0mret\u001b[0m\u001b[1;33m,\u001b[0m \u001b[1;34m'LogIn'\u001b[0m\u001b[1;33m,\u001b[0m \u001b[1;34m'{05DCF415-6012-4463-BB3B-D1F601842A9D}'\u001b[0m\u001b[1;33m)\u001b[0m\u001b[1;33m\u001b[0m\u001b[0m\n",
        "\u001b[1;31mcom_error\u001b[0m: (-2147352567, 'Exception occurred.', (0, 'M-Files 9.0.3372.6', 'The vault is offline.\\r\\n\\r\\nCoVaultOnServer.cpp, 252, The vault is offline. (0x80040061)\\r\\nCoVaultOnServer.cpp, 294, The vault is offline. (0x80040061)\\r\\nMFilesSession.cpp, 565, The vault is offline. (0x80040061)\\r\\nMFilesSession.cpp, 621, The vault is offline. (0x80040061)\\r\\nMFilesSession.cpp, 1426, The vault is offline. (0x80040061)\\r\\nMFilesSession.cpp, 1511, The vault is offline. (0x80040061)\\r\\nMFilesSession.cpp, 1646, The vault is offline. (0x80040061)\\r\\nMFilesSession.cpp, 2085, The vault is offline. (0x80040061)\\r\\nRPCLogin.cpp, 183, The vault is offline. (0x80040061)\\r\\nRPCLoginHelper.cpp, 162, The vault is offline. (0x80040061)\\r\\nRPCLoginHelper.cpp, 460, The vault is offline. (0x80040061)\\r\\nRPCLoginHelper.cpp, 599, The vault is offline. (0x80040061)\\r\\n(M-Files 9.0.3372.6)\\r\\n\\r\\n(0021)', None, 0, -2147221503), None)"
       ]
      }
     ],
     "prompt_number": 9
    }
   ],
   "metadata": {}
  }
 ]
}